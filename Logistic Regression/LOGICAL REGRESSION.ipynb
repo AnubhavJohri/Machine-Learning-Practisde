{
 "cells": [
  {
   "cell_type": "code",
   "execution_count": 1,
   "metadata": {},
   "outputs": [],
   "source": [
    "import numpy as np\n",
    "import math"
   ]
  },
  {
   "cell_type": "code",
   "execution_count": 38,
   "metadata": {},
   "outputs": [],
   "source": [
    "# calculate cost function\n",
    "def cost(x, y, m):\n",
    "    mx=np.dot(x,m)\n",
    "    hx=1/(1+np.exp(-mx))\n",
    "    return ((-y*np.log(hx))-((1-y)*np.log(1-hx))).sum()"
   ]
  },
  {
   "cell_type": "code",
   "execution_count": 31,
   "metadata": {},
   "outputs": [],
   "source": [
    "# calculate gradients and update m & b values\n",
    "def step_gradient(x, y, learning_rate, m, batch_size):\n",
    "    k = x.shape[0]\n",
    "    n = x.shape[1]\n",
    "    num_batches = math.ceil(k/batch_size)\n",
    "    \n",
    "    for b in range(num_batches):\n",
    "        start = b * batch_size \n",
    "        end = min((b + 1) * batch_size, k)\n",
    "        slope_m = np.zeros((n, 1))\n",
    "        for j in range(n):\n",
    "            for i in range(start, end, 1):\n",
    "                mx=np.dot(x[i],m)\n",
    "                hx=1/(1+np.exp(0-mx))\n",
    "                slope_m[j][0] += (x[i][j]*(hx-y[i][0]))\n",
    "        m = m - learning_rate * slope_m\n",
    "    return m"
   ]
  },
  {
   "cell_type": "code",
   "execution_count": 52,
   "metadata": {},
   "outputs": [],
   "source": [
    "# running multiple iterations of step gradient\n",
    "def gradient_descent(x, y, learning_rate = 0.1, num_iter = 100, batch_size = 32):\n",
    "    m = np.random.random((x.shape[1], 1))\n",
    "    m=m.reshape(x.shape[1],1)\n",
    "    print(\"Start : \", cost(x, y, m))\n",
    "    for i in range(num_iter):\n",
    "        m = step_gradient(x, y, learning_rate, m, batch_size)\n",
    "        if (i % (num_iter//10) == 0):\n",
    "            print(i, \" : \", cost(x, y, m))\n",
    "    print(\"End : \", cost(x, y, m))\n",
    "    return m"
   ]
  },
  {
   "cell_type": "code",
   "execution_count": 53,
   "metadata": {},
   "outputs": [],
   "source": [
    "# data loading & calling gradient descent\n",
    "def run(x, y):\n",
    "    learning_rate = 0.1\n",
    "    num_iter = 500\n",
    "    m = gradient_descent(x, y, learning_rate, num_iter)\n",
    "    return m"
   ]
  },
  {
   "cell_type": "code",
   "execution_count": 11,
   "metadata": {},
   "outputs": [],
   "source": [
    "from sklearn import datasets\n",
    "from sklearn.model_selection import train_test_split\n",
    "from sklearn import preprocessing\n",
    "from sklearn.preprocessing import StandardScaler"
   ]
  },
  {
   "cell_type": "code",
   "execution_count": 56,
   "metadata": {},
   "outputs": [],
   "source": [
    "cancer = datasets.load_breast_cancer()\n",
    "cancer.DESCR\n",
    "scaler=StandardScaler\n",
    "\n",
    "#x = preprocessing.scale(boston.data)\n",
    "\n",
    "xtrain=cancer.data\n",
    "\n",
    "#xtrain_scaled=scaler.fit_transform(xtrain)\n",
    "\n",
    "#x = np.c_[x, np.ones((x.shape[0], 1))]\n",
    "\n",
    "xtrain = np.c_[xtrain, np.ones((xtrain.shape[0], 1))]\n",
    "\n",
    "ytrain = cancer.target.reshape((xtrain.shape[0], 1))\n",
    "#ytrain = cancer.target\n",
    "#xtrain.shape,ytrain.shape\n",
    "#ytrain\n",
    "#x_train, x_test, y_train, y_test = train_test_split(x, y, random_state=1)"
   ]
  },
  {
   "cell_type": "code",
   "execution_count": 55,
   "metadata": {},
   "outputs": [
    {
     "name": "stderr",
     "output_type": "stream",
     "text": [
      "C:\\Users\\hp\\Anaconda3\\lib\\site-packages\\ipykernel_launcher.py:5: RuntimeWarning: divide by zero encountered in log\n",
      "  \"\"\"\n",
      "C:\\Users\\hp\\Anaconda3\\lib\\site-packages\\ipykernel_launcher.py:5: RuntimeWarning: invalid value encountered in multiply\n",
      "  \"\"\"\n"
     ]
    },
    {
     "name": "stdout",
     "output_type": "stream",
     "text": [
      "Start :  nan\n",
      "0  :  nan\n",
      "50  :  nan\n",
      "100  :  nan\n",
      "150  :  nan\n",
      "200  :  nan\n",
      "250  :  nan\n",
      "300  :  nan\n",
      "350  :  nan\n",
      "400  :  nan\n",
      "450  :  nan\n",
      "End :  nan\n"
     ]
    }
   ],
   "source": [
    "m = run(xtrain, ytrain)"
   ]
  },
  {
   "cell_type": "code",
   "execution_count": null,
   "metadata": {},
   "outputs": [],
   "source": [
    "from sklearn.linear_model import LinearRegression"
   ]
  },
  {
   "cell_type": "code",
   "execution_count": null,
   "metadata": {},
   "outputs": [],
   "source": [
    "clf = LinearRegression()\n",
    "clf.fit(x_train, y_train)\n",
    "clf.score(x_train, y_train)"
   ]
  },
  {
   "cell_type": "code",
   "execution_count": null,
   "metadata": {},
   "outputs": [],
   "source": [
    "def score(y, y_pred):\n",
    "    u = ((y - y_pred)**2).sum()\n",
    "    v = ((y - y.mean())**2).sum()\n",
    "    return 1 - u/v"
   ]
  },
  {
   "cell_type": "code",
   "execution_count": null,
   "metadata": {},
   "outputs": [],
   "source": [
    "pred = np.dot(x_train, m)\n",
    "pred"
   ]
  },
  {
   "cell_type": "code",
   "execution_count": null,
   "metadata": {
    "scrolled": true
   },
   "outputs": [],
   "source": [
    "score(y_train, pred)"
   ]
  },
  {
   "cell_type": "code",
   "execution_count": null,
   "metadata": {},
   "outputs": [],
   "source": [
    "np.dot(x[2], m)"
   ]
  }
 ],
 "metadata": {
  "anaconda-cloud": {},
  "kernelspec": {
   "display_name": "Python 3",
   "language": "python",
   "name": "python3"
  },
  "language_info": {
   "codemirror_mode": {
    "name": "ipython",
    "version": 3
   },
   "file_extension": ".py",
   "mimetype": "text/x-python",
   "name": "python",
   "nbconvert_exporter": "python",
   "pygments_lexer": "ipython3",
   "version": "3.6.5"
  }
 },
 "nbformat": 4,
 "nbformat_minor": 1
}
