{
 "cells": [
  {
   "cell_type": "code",
   "execution_count": 1,
   "metadata": {},
   "outputs": [],
   "source": [
    "import numpy as np\n",
    "import math"
   ]
  },
  {
   "cell_type": "code",
   "execution_count": 2,
   "metadata": {},
   "outputs": [],
   "source": [
    "# calculate cost function\n",
    "def cost(x, y, m):\n",
    "    return ((y - np.dot(x, m)) ** 2).mean()"
   ]
  },
  {
   "cell_type": "code",
   "execution_count": 3,
   "metadata": {},
   "outputs": [],
   "source": [
    "# calculate gradients and update m & b values\n",
    "def step_gradient(x, y, learning_rate, m, batch_size):\n",
    "    k = x.shape[0]\n",
    "    n = x.shape[1]\n",
    "    num_batches = math.ceil(k/batch_size)\n",
    "    \n",
    "    for b in range(num_batches):\n",
    "        start = b * batch_size \n",
    "        end = min((b + 1) * batch_size, k)\n",
    "        slope_m = np.zeros((n, 1))\n",
    "        for j in range(n):\n",
    "            for i in range(start, end, 1):\n",
    "                y_pred_i = np.dot(x[i], m)[0]\n",
    "                y_i = y[i][0]\n",
    "                slope_m[j][0] += (2/k)*x[i][j]*(y_pred_i - y_i)\n",
    "        #slope_m += (2/k) * x[i] * (m * x[i] + b - y[i])    \n",
    "        m = m - learning_rate * slope_m\n",
    "    return m"
   ]
  },
  {
   "cell_type": "code",
   "execution_count": 4,
   "metadata": {},
   "outputs": [],
   "source": [
    "# running multiple iterations of step gradient\n",
    "def gradient_descent(x, y, learning_rate = 0.1, num_iter = 100, batch_size = 32):\n",
    "    m = np.random.random((x.shape[1], 1))\n",
    "    print(\"Start : \", cost(x, y, m))\n",
    "    for i in range(num_iter):\n",
    "        m = step_gradient(x, y, learning_rate, m, batch_size)\n",
    "        if (i % (num_iter//10) == 0):\n",
    "            print(i, \" : \", cost(x, y, m))\n",
    "    print(\"End : \", cost(x, y, m))\n",
    "    return m"
   ]
  },
  {
   "cell_type": "code",
   "execution_count": 5,
   "metadata": {},
   "outputs": [],
   "source": [
    "# data loading & calling gradient descent\n",
    "#after scaling always take a greater alpha\n",
    "def run(x, y):\n",
    "    learning_rate = 0.1\n",
    "    num_iter = 500\n",
    "    m = gradient_descent(x, y, learning_rate, num_iter)\n",
    "    return m"
   ]
  },
  {
   "cell_type": "code",
   "execution_count": 6,
   "metadata": {},
   "outputs": [],
   "source": [
    "from sklearn import datasets\n",
    "from sklearn.model_selection import train_test_split\n",
    "from sklearn import preprocessing"
   ]
  },
  {
   "cell_type": "code",
   "execution_count": 92,
   "metadata": {},
   "outputs": [
    {
     "data": {
      "text/plain": [
       "(2392, 4)"
      ]
     },
     "execution_count": 92,
     "metadata": {},
     "output_type": "execute_result"
    }
   ],
   "source": [
    "#boston = datasets.load_boston()\n",
    "#x = preprocessing.scale(boston.data)\n",
    "from sklearn.preprocessing import StandardScaler\n",
    "traindata = np.loadtxt(open(\"C:\\\\Users\\\\hp\\\\Coding Ninjas\\\\Lectures\\\\Lect 5\\\\Assignment\\\\Q2\\\\Power Plant train.csv\", \"rb\"), delimiter = \",\")\n",
    "xtrain=traindata[:,0:4]\n",
    "\n",
    "scaler=StandardScaler()\n",
    "xtrain_scaled=scaler.fit_transform(xtrain)\n",
    "xtrain_scaled = np.c_[xtrain_scaled, np.ones((xtrain_scaled.shape[0], 1))]\n",
    "\n",
    "ytrain=traindata[:,-1]\n",
    "ytrain = ytrain.reshape((len(ytrain), 1))\n",
    "\n",
    "\n",
    "testdata = np.loadtxt(open(\"C:\\\\Users\\\\hp\\\\Coding Ninjas\\\\Lectures\\\\Lect 5\\\\Assignment\\\\Q2\\\\Power Plant test.csv\", \"rb\"), delimiter = \",\")\n",
    "xtest=testdata\n",
    "xtest_scaled=scaler.transform(xtest)\n",
    "#y = boston.target.reshape((x.shape[0], 1))\n",
    "#x_train, x_test, y_train, y_test = train_test_split(x, y, random_state=1)\n",
    "xtest_scaled.shape"
   ]
  },
  {
   "cell_type": "code",
   "execution_count": 93,
   "metadata": {},
   "outputs": [
    {
     "name": "stdout",
     "output_type": "stream",
     "text": [
      "Start :  206775.75038001902\n",
      "0  :  138511.0992523639\n",
      "50  :  22.434020685619352\n",
      "100  :  21.11095308776143\n",
      "150  :  20.938095339675314\n",
      "200  :  20.915472038356032\n",
      "250  :  20.91250097344858\n",
      "300  :  20.91210712169802\n",
      "350  :  20.91205359287823\n",
      "400  :  20.91204584803571\n",
      "450  :  20.912044564322905\n",
      "End :  20.912044300804915\n"
     ]
    },
    {
     "data": {
      "text/plain": [
       "array([[-1.49084270e+01],\n",
       "       [-2.90136919e+00],\n",
       "       [ 3.51777083e-01],\n",
       "       [-2.33607329e+00],\n",
       "       [ 4.54428415e+02]])"
      ]
     },
     "execution_count": 93,
     "metadata": {},
     "output_type": "execute_result"
    }
   ],
   "source": [
    "m = run(xtrain_scaled, ytrain)\n",
    "m"
   ]
  },
  {
   "cell_type": "code",
   "execution_count": 9,
   "metadata": {},
   "outputs": [],
   "source": [
    "from sklearn.linear_model import LinearRegression"
   ]
  },
  {
   "cell_type": "code",
   "execution_count": 26,
   "metadata": {},
   "outputs": [
    {
     "data": {
      "text/plain": [
       "array([[-14.90272935,  -2.89427819,   0.34973996,  -2.34230172,\n",
       "          0.        ]])"
      ]
     },
     "execution_count": 26,
     "metadata": {},
     "output_type": "execute_result"
    }
   ],
   "source": [
    "clf = LinearRegression()\n",
    "clf.fit(xtrain_scaled, ytrain)\n",
    "clf.score(xtrain_scaled, ytrain)\n",
    "clf.coef_"
   ]
  },
  {
   "cell_type": "code",
   "execution_count": 11,
   "metadata": {},
   "outputs": [],
   "source": [
    "def score(y, y_pred):\n",
    "    u = ((y - y_pred)**2).sum()\n",
    "    v = ((y - y.mean())**2).sum()\n",
    "    return 1 - u/v"
   ]
  },
  {
   "cell_type": "code",
   "execution_count": 94,
   "metadata": {},
   "outputs": [
    {
     "data": {
      "text/plain": [
       "((2392, 1), (2392, 5))"
      ]
     },
     "execution_count": 94,
     "metadata": {},
     "output_type": "execute_result"
    }
   ],
   "source": [
    "l=np.ones((xtest_scaled.shape[0],1))\n",
    "l.shape\n",
    "xtest_scaled=np.append(xtest_scaled,l,axis=1)\n",
    "pred = np.dot(xtest_scaled, m)\n",
    "pred\n",
    "np.savetxt(\"C:\\\\Users\\\\hp\\\\Coding Ninjas\\\\Lectures\\\\Lect 5\\\\Assignment\\\\Q2\\\\resultpowerplant.csv\", pred,fmt=\"%f\", delimiter=',')\n",
    "l.shape,xtest_scaled.shape"
   ]
  },
  {
   "cell_type": "code",
   "execution_count": null,
   "metadata": {
    "scrolled": true
   },
   "outputs": [],
   "source": [
    "score(y_train, pred)"
   ]
  },
  {
   "cell_type": "code",
   "execution_count": null,
   "metadata": {},
   "outputs": [],
   "source": [
    "np.dot(x[2], m)"
   ]
  }
 ],
 "metadata": {
  "anaconda-cloud": {},
  "kernelspec": {
   "display_name": "Python 3",
   "language": "python",
   "name": "python3"
  },
  "language_info": {
   "codemirror_mode": {
    "name": "ipython",
    "version": 3
   },
   "file_extension": ".py",
   "mimetype": "text/x-python",
   "name": "python",
   "nbconvert_exporter": "python",
   "pygments_lexer": "ipython3",
   "version": "3.6.5"
  }
 },
 "nbformat": 4,
 "nbformat_minor": 1
}
