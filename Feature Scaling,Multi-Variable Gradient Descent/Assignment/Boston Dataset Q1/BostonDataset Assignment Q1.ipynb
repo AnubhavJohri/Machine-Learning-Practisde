{
 "cells": [
  {
   "cell_type": "code",
   "execution_count": 1,
   "metadata": {},
   "outputs": [],
   "source": [
    "import numpy as np\n",
    "import math"
   ]
  },
  {
   "cell_type": "code",
   "execution_count": 2,
   "metadata": {},
   "outputs": [],
   "source": [
    "# calculate cost function\n",
    "def cost(x, y, m):\n",
    "    return ((y - np.dot(x, m)) ** 2).mean()"
   ]
  },
  {
   "cell_type": "code",
   "execution_count": 3,
   "metadata": {},
   "outputs": [],
   "source": [
    "# calculate gradients and update m & b values\n",
    "def step_gradient(x, y, learning_rate, m, batch_size):\n",
    "    k = x.shape[0]\n",
    "    n = x.shape[1]\n",
    "    num_batches = math.ceil(k/batch_size)\n",
    "    \n",
    "    for b in range(num_batches):\n",
    "        start = b * batch_size \n",
    "        end = min((b + 1) * batch_size, k)\n",
    "        slope_m = np.zeros((n, 1))\n",
    "        for j in range(n):\n",
    "            for i in range(start, end, 1):\n",
    "                y_pred_i = np.dot(x[i], m)[0]\n",
    "                y_i = y[i][0]\n",
    "                slope_m[j][0] += (2/k)*x[i][j]*(y_pred_i - y_i)\n",
    "        #slope_m += (2/k) * x[i] * (m * x[i] + b - y[i])    \n",
    "        m = m - learning_rate * slope_m\n",
    "    return m"
   ]
  },
  {
   "cell_type": "code",
   "execution_count": 4,
   "metadata": {},
   "outputs": [],
   "source": [
    "# running multiple iterations of step gradient\n",
    "def gradient_descent(x, y, learning_rate = 0.1, num_iter = 100, batch_size = 32):\n",
    "    m = np.random.random((x.shape[1], 1))\n",
    "    print(\"Start : \", cost(x, y, m))\n",
    "    for i in range(num_iter):\n",
    "        m = step_gradient(x, y, learning_rate, m, batch_size)\n",
    "        if (i % (num_iter//10) == 0):\n",
    "            print(i, \" : \", cost(x, y, m))\n",
    "    print(\"End : \", cost(x, y, m))\n",
    "    return m"
   ]
  },
  {
   "cell_type": "code",
   "execution_count": 48,
   "metadata": {},
   "outputs": [],
   "source": [
    "# data loading & calling gradient descent\n",
    "#after scaling always take a greater alpha\n",
    "def run(x, y):\n",
    "    learning_rate = 0.0009\n",
    "    num_iter = 6000\n",
    "    m = gradient_descent(x, y, learning_rate, num_iter)\n",
    "    return m"
   ]
  },
  {
   "cell_type": "code",
   "execution_count": 6,
   "metadata": {},
   "outputs": [],
   "source": [
    "from sklearn import datasets\n",
    "from sklearn.model_selection import train_test_split\n",
    "from sklearn import preprocessing"
   ]
  },
  {
   "cell_type": "code",
   "execution_count": 51,
   "metadata": {},
   "outputs": [],
   "source": [
    "#boston = datasets.load_boston()\n",
    "#x = preprocessing.scale(boston.data)\n",
    "from sklearn.preprocessing import StandardScaler\n",
    "traindata = np.loadtxt(open(\"C:\\\\Users\\\\hp\\\\Coding Ninjas\\\\Lectures\\\\Lect 4\\\\boston_train.csv\", \"rb\"), delimiter = \",\")\n",
    "\n",
    "xtrain=traindata[:,0:13]\n",
    "\n",
    "l1=[]\n",
    "l2=[]\n",
    "for i in range(xtrain.shape[0]):\n",
    "    l1.append((xtrain[i][12]+xtrain[i][10])**2)\n",
    "    l2.append((xtrain[i][5]+xtrain[i][11])**2)\n",
    "    \n",
    "#print(xtrain)\n",
    "l1=np.array(l1)\n",
    "l2=np.array(l2)\n",
    "l1=l1.reshape((xtrain.shape[0],1))\n",
    "l2=l2.reshape((xtrain.shape[0],1))\n",
    "#print(l1.shape)\n",
    "xtrain=np.append(xtrain,l1,axis=1)\n",
    "xtrain=np.append(xtrain,l2,axis=1)\n",
    "\n",
    "scaler=StandardScaler()\n",
    "xtrain_scaled=scaler.fit_transform(xtrain)\n",
    "xtrain_scaled = np.c_[xtrain_scaled, np.ones((xtrain.shape[0], 1))]\n",
    "\n",
    "ytrain=traindata[:,-1]\n",
    "ytrain = ytrain.reshape((len(ytrain), 1))\n",
    "\n",
    "\n",
    "testdata = np.loadtxt(open(\"C:\\\\Users\\\\hp\\\\Coding Ninjas\\\\Lectures\\\\Lect 4\\\\boston_test.csv\", \"rb\"), delimiter = \",\")\n",
    "xtest=testdata\n",
    "l1=[]\n",
    "l2=[]\n",
    "for i in range(xtest.shape[0]):\n",
    "    l1.append((xtest[i][12]+xtest[i][10])**2)\n",
    "    l2.append((xtest[i][5]+xtest[i][11])**2)\n",
    "    \n",
    "#print(xtrain)\n",
    "l1=np.array(l1)\n",
    "l2=np.array(l2)\n",
    "l1=l1.reshape((xtest.shape[0],1))\n",
    "l2=l2.reshape((xtest.shape[0],1))\n",
    "#print(l1.shape)\n",
    "xtest=np.append(xtest,l1,axis=1)\n",
    "xtest=np.append(xtest,l2,axis=1)\n",
    "xtest_scaled=scaler.transform(xtest)\n",
    "#y = boston.target.reshape((x.shape[0], 1))\n",
    "#x_train, x_test, y_train, y_test = train_test_split(x, y, random_state=1)"
   ]
  },
  {
   "cell_type": "code",
   "execution_count": 49,
   "metadata": {},
   "outputs": [
    {
     "name": "stdout",
     "output_type": "stream",
     "text": [
      "Start :  626.1828646798639\n",
      "0  :  622.6789080318453\n",
      "600  :  83.43092004600659\n",
      "1200  :  28.868723452610382\n",
      "1800  :  21.8069924783832\n",
      "2400  :  20.54356590324306\n",
      "3000  :  20.136862218310153\n",
      "3600  :  19.93219070477506\n",
      "4200  :  19.808885461881633\n",
      "4800  :  19.728661223887926\n",
      "5400  :  19.673645277083153\n",
      "End :  19.63421927470953\n"
     ]
    },
    {
     "data": {
      "text/plain": [
       "array([[-1.37445966],\n",
       "       [ 0.0835916 ],\n",
       "       [ 0.06067403],\n",
       "       [ 0.87334142],\n",
       "       [-1.40158785],\n",
       "       [ 2.16847994],\n",
       "       [-0.10708964],\n",
       "       [-1.95644987],\n",
       "       [ 1.5319765 ],\n",
       "       [-0.8616016 ],\n",
       "       [-1.56722148],\n",
       "       [ 2.6273317 ],\n",
       "       [-4.44700801],\n",
       "       [ 0.87975396],\n",
       "       [ 2.66028299],\n",
       "       [22.60903488]])"
      ]
     },
     "execution_count": 49,
     "metadata": {},
     "output_type": "execute_result"
    }
   ],
   "source": [
    "m = run(xtrain_scaled, ytrain)\n",
    "m"
   ]
  },
  {
   "cell_type": "code",
   "execution_count": 9,
   "metadata": {},
   "outputs": [],
   "source": [
    "from sklearn.linear_model import LinearRegression"
   ]
  },
  {
   "cell_type": "code",
   "execution_count": 10,
   "metadata": {},
   "outputs": [
    {
     "data": {
      "text/plain": [
       "array([[-0.93808077,  0.74103443,  0.01169157,  0.78087372, -2.1745575 ,\n",
       "         2.35429653,  0.1233381 , -2.95232355,  2.53296817, -1.7029037 ,\n",
       "        -2.25151962,  0.58835429, -4.26368155]])"
      ]
     },
     "execution_count": 10,
     "metadata": {},
     "output_type": "execute_result"
    }
   ],
   "source": [
    "clf = LinearRegression()\n",
    "clf.fit(xtrain, ytrain)\n",
    "clf.score(xtrain, ytrain)\n",
    "clf.coef_"
   ]
  },
  {
   "cell_type": "code",
   "execution_count": 11,
   "metadata": {},
   "outputs": [],
   "source": [
    "def score(y, y_pred):\n",
    "    u = ((y - y_pred)**2).sum()\n",
    "    v = ((y - y.mean())**2).sum()\n",
    "    return 1 - u/v"
   ]
  },
  {
   "cell_type": "code",
   "execution_count": 52,
   "metadata": {},
   "outputs": [
    {
     "data": {
      "text/plain": [
       "((127, 1), (127, 16))"
      ]
     },
     "execution_count": 52,
     "metadata": {},
     "output_type": "execute_result"
    }
   ],
   "source": [
    "l=np.ones((xtest_scaled.shape[0],1))\n",
    "l.shape\n",
    "xtest_scaled=np.append(xtest_scaled,l,axis=1)\n",
    "pred = np.dot(xtest_scaled, m)\n",
    "pred\n",
    "np.savetxt(\"C:\\\\Users\\\\hp\\\\Coding Ninjas\\\\Lectures\\\\Lect 5\\\\Assignment\\\\Q2\\\\resultboston.csv\", pred,fmt=\"%f\", delimiter=',')\n",
    "l.shape,xtest_scaled.shape"
   ]
  },
  {
   "cell_type": "code",
   "execution_count": null,
   "metadata": {
    "scrolled": true
   },
   "outputs": [],
   "source": [
    "score(y_train, pred)"
   ]
  },
  {
   "cell_type": "code",
   "execution_count": null,
   "metadata": {},
   "outputs": [],
   "source": [
    "np.dot(x[2], m)"
   ]
  }
 ],
 "metadata": {
  "anaconda-cloud": {},
  "kernelspec": {
   "display_name": "Python 3",
   "language": "python",
   "name": "python3"
  },
  "language_info": {
   "codemirror_mode": {
    "name": "ipython",
    "version": 3
   },
   "file_extension": ".py",
   "mimetype": "text/x-python",
   "name": "python",
   "nbconvert_exporter": "python",
   "pygments_lexer": "ipython3",
   "version": "3.6.5"
  }
 },
 "nbformat": 4,
 "nbformat_minor": 1
}
